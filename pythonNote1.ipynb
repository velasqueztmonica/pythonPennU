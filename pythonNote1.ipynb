{
 "cells": [
  {
   "cell_type": "code",
   "execution_count": 19,
   "id": "8cb7fdc9",
   "metadata": {},
   "outputs": [
    {
     "name": "stdout",
     "output_type": "stream",
     "text": [
      "Done.\n"
     ]
    }
   ],
   "source": [
    "l = ['foo', 'bar', 'baz']\n",
    "while len(l) > 3:\n",
    "    print(l.pop())\n",
    "print('Done.')"
   ]
  },
  {
   "cell_type": "code",
   "execution_count": 5,
   "id": "9b697b1d",
   "metadata": {},
   "outputs": [
    {
     "data": {
      "text/plain": [
       "0"
      ]
     },
     "execution_count": 5,
     "metadata": {},
     "output_type": "execute_result"
    }
   ],
   "source": [
    "12 % 12"
   ]
  },
  {
   "cell_type": "code",
   "execution_count": 20,
   "id": "38efa050",
   "metadata": {},
   "outputs": [
    {
     "name": "stdout",
     "output_type": "stream",
     "text": [
      "1, 0, -1, -2, -3, -4, "
     ]
    }
   ],
   "source": [
    "for num in range(1, -5, -1):\n",
    "    print(num, end=\", \")"
   ]
  },
  {
   "cell_type": "code",
   "execution_count": 22,
   "id": "c4d5a927",
   "metadata": {},
   "outputs": [
    {
     "ename": "SyntaxError",
     "evalue": "'break' outside loop (1711579112.py, line 5)",
     "output_type": "error",
     "traceback": [
      "\u001b[0;36m  Input \u001b[0;32mIn [22]\u001b[0;36m\u001b[0m\n\u001b[0;31m    break\u001b[0m\n\u001b[0m    ^\u001b[0m\n\u001b[0;31mSyntaxError\u001b[0m\u001b[0;31m:\u001b[0m 'break' outside loop\n"
     ]
    }
   ],
   "source": [
    "num = 10\n",
    "i = 9\n",
    "if num % i == 1:\n",
    "    print(num)"
   ]
  },
  {
   "cell_type": "code",
   "execution_count": 25,
   "id": "904ab498",
   "metadata": {},
   "outputs": [
    {
     "name": "stdout",
     "output_type": "stream",
     "text": [
      "10\n"
     ]
    }
   ],
   "source": [
    "def fun1(num):\n",
    "    return num + 25\n",
    "\n",
    "fun1(5)\n",
    "print(num)"
   ]
  },
  {
   "cell_type": "code",
   "execution_count": 26,
   "id": "5e26e730",
   "metadata": {},
   "outputs": [
    {
     "name": "stdout",
     "output_type": "stream",
     "text": [
      "10\n"
     ]
    }
   ],
   "source": [
    "def fun1(num):\n",
    "    return num + 25\n",
    "\n",
    "fun1(5)\n",
    "print(num)"
   ]
  },
  {
   "cell_type": "code",
   "execution_count": 27,
   "id": "caf962cc",
   "metadata": {},
   "outputs": [
    {
     "ename": "TypeError",
     "evalue": "can't multiply sequence by non-int of type 'float'",
     "output_type": "error",
     "traceback": [
      "\u001b[0;31m---------------------------------------------------------------------------\u001b[0m",
      "\u001b[0;31mTypeError\u001b[0m                                 Traceback (most recent call last)",
      "\u001b[1;32m/Users/monicamariavelasqueztorres/Documents/GitHub/pythonPennU/pythonNote1.ipynb Cell 6\u001b[0m in \u001b[0;36m<cell line: 4>\u001b[0;34m()\u001b[0m\n\u001b[1;32m      <a href='vscode-notebook-cell:/Users/monicamariavelasqueztorres/Documents/GitHub/pythonPennU/pythonNote1.ipynb#X54sZmlsZQ%3D%3D?line=0'>1</a>\u001b[0m \u001b[39mdef\u001b[39;00m \u001b[39mcalc\u001b[39m(a, b, c):\n\u001b[1;32m      <a href='vscode-notebook-cell:/Users/monicamariavelasqueztorres/Documents/GitHub/pythonPennU/pythonNote1.ipynb#X54sZmlsZQ%3D%3D?line=1'>2</a>\u001b[0m     \u001b[39mprint\u001b[39m(a \u001b[39m*\u001b[39m b \u001b[39m*\u001b[39m c)\n\u001b[0;32m----> <a href='vscode-notebook-cell:/Users/monicamariavelasqueztorres/Documents/GitHub/pythonPennU/pythonNote1.ipynb#X54sZmlsZQ%3D%3D?line=3'>4</a>\u001b[0m calc(\u001b[39m'\u001b[39;49m\u001b[39moutput\u001b[39;49m\u001b[39m'\u001b[39;49m, \u001b[39m10.2\u001b[39;49m, \u001b[39m20.3\u001b[39;49m)\n",
      "\u001b[1;32m/Users/monicamariavelasqueztorres/Documents/GitHub/pythonPennU/pythonNote1.ipynb Cell 6\u001b[0m in \u001b[0;36mcalc\u001b[0;34m(a, b, c)\u001b[0m\n\u001b[1;32m      <a href='vscode-notebook-cell:/Users/monicamariavelasqueztorres/Documents/GitHub/pythonPennU/pythonNote1.ipynb#X54sZmlsZQ%3D%3D?line=0'>1</a>\u001b[0m \u001b[39mdef\u001b[39;00m \u001b[39mcalc\u001b[39m(a, b, c):\n\u001b[0;32m----> <a href='vscode-notebook-cell:/Users/monicamariavelasqueztorres/Documents/GitHub/pythonPennU/pythonNote1.ipynb#X54sZmlsZQ%3D%3D?line=1'>2</a>\u001b[0m     \u001b[39mprint\u001b[39m(a \u001b[39m*\u001b[39;49m b \u001b[39m*\u001b[39m c)\n",
      "\u001b[0;31mTypeError\u001b[0m: can't multiply sequence by non-int of type 'float'"
     ]
    }
   ],
   "source": [
    "def calc(a, b, c):\n",
    "    print(a * b * c)\n",
    "\n",
    "calc('output', 10.2, 20.3)"
   ]
  },
  {
   "cell_type": "code",
   "execution_count": 1,
   "id": "488636a0",
   "metadata": {},
   "outputs": [
    {
     "name": "stdout",
     "output_type": "stream",
     "text": [
      "9\n"
     ]
    }
   ],
   "source": [
    "def square(x):\n",
    "    print(x ** 2)\n",
    "\n",
    "square(3)"
   ]
  },
  {
   "cell_type": "code",
   "execution_count": 2,
   "id": "63aee0f6",
   "metadata": {},
   "outputs": [
    {
     "name": "stdout",
     "output_type": "stream",
     "text": [
      "7\n"
     ]
    }
   ],
   "source": [
    "def add_two(x):\n",
    "    x = x + 2\n",
    "    print(x)\n",
    "    \n",
    "add_two(5)"
   ]
  },
  {
   "cell_type": "code",
   "execution_count": 4,
   "id": "d9026f17",
   "metadata": {},
   "outputs": [
    {
     "name": "stdout",
     "output_type": "stream",
     "text": [
      "Do you know correct execution order?\n",
      "Have fun working!\n",
      "Have fun coding!\n"
     ]
    }
   ],
   "source": [
    "def study():\n",
    "    print('Have fun coding!')\n",
    "    \n",
    "def work():\n",
    "    print(\"Have fun working!\")\n",
    "    \n",
    "print(\"Do you know correct execution order?\")\n",
    "work()\n",
    "study()"
   ]
  }
 ],
 "metadata": {
  "kernelspec": {
   "display_name": "Python 3 (ipykernel)",
   "language": "python",
   "name": "python3"
  },
  "language_info": {
   "codemirror_mode": {
    "name": "ipython",
    "version": 3
   },
   "file_extension": ".py",
   "mimetype": "text/x-python",
   "name": "python",
   "nbconvert_exporter": "python",
   "pygments_lexer": "ipython3",
   "version": "3.10.2"
  }
 },
 "nbformat": 4,
 "nbformat_minor": 5
}
